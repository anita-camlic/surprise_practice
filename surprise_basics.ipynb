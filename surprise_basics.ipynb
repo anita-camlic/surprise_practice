{
 "cells": [
  {
   "cell_type": "code",
   "execution_count": 1,
   "metadata": {},
   "outputs": [],
   "source": [
    "#imports \n",
    "from surprise import SVD\n",
    "from surprise import Dataset\n",
    "from surprise.model_selection import cross_validate"
   ]
  },
  {
   "cell_type": "code",
   "execution_count": 2,
   "metadata": {},
   "outputs": [
    {
     "name": "stdout",
     "output_type": "stream",
     "text": [
      "Dataset ml-100k could not be found. Do you want to download it? [Y/n] Y\n",
      "Trying to download dataset from http://files.grouplens.org/datasets/movielens/ml-100k.zip...\n",
      "Done! Dataset ml-100k has been saved to C:\\Users\\User/.surprise_data/ml-100k\n",
      "Evaluating RMSE, MAE of algorithm SVD on 5 split(s).\n",
      "\n",
      "                  Fold 1  Fold 2  Fold 3  Fold 4  Fold 5  Mean    Std     \n",
      "RMSE (testset)    0.9344  0.9389  0.9323  0.9353  0.9420  0.9366  0.0035  \n",
      "MAE (testset)     0.7375  0.7393  0.7350  0.7374  0.7415  0.7381  0.0022  \n",
      "Fit time          5.86    5.82    5.83    5.81    7.03    6.07    0.48    \n",
      "Test time         0.23    0.20    0.22    0.19    0.22    0.21    0.02    \n"
     ]
    },
    {
     "data": {
      "text/plain": [
       "{'test_rmse': array([0.93441205, 0.93886374, 0.93232591, 0.9353072 , 0.94204804]),\n",
       " 'test_mae': array([0.73745247, 0.739317  , 0.73502481, 0.73737527, 0.74152696]),\n",
       " 'fit_time': (5.856675386428833,\n",
       "  5.824637174606323,\n",
       "  5.827775478363037,\n",
       "  5.811416387557983,\n",
       "  7.029557228088379),\n",
       " 'test_time': (0.2343454360961914,\n",
       "  0.20311450958251953,\n",
       "  0.218733549118042,\n",
       "  0.1874854564666748,\n",
       "  0.22006487846374512)}"
      ]
     },
     "execution_count": 2,
     "metadata": {},
     "output_type": "execute_result"
    }
   ],
   "source": [
    "# Load the movielens-100k dataset (download it if needed).\n",
    "data = Dataset.load_builtin('ml-100k')\n",
    "\n",
    "# Use the famous SVD algorithm. Singular Value Decomposition\n",
    "algo = SVD()\n",
    "\n",
    "# Run 5-fold cross-validation and print results.\n",
    "cross_validate(algo, data, measures=['RMSE', 'MAE'], cv=5, verbose=True)"
   ]
  },
  {
   "cell_type": "code",
   "execution_count": null,
   "metadata": {},
   "outputs": [],
   "source": []
  }
 ],
 "metadata": {
  "kernelspec": {
   "display_name": "Python 3",
   "language": "python",
   "name": "python3"
  },
  "language_info": {
   "codemirror_mode": {
    "name": "ipython",
    "version": 3
   },
   "file_extension": ".py",
   "mimetype": "text/x-python",
   "name": "python",
   "nbconvert_exporter": "python",
   "pygments_lexer": "ipython3",
   "version": "3.8.5"
  }
 },
 "nbformat": 4,
 "nbformat_minor": 4
}
